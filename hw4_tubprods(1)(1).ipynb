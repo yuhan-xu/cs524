{
 "cells": [
  {
   "cell_type": "markdown",
   "metadata": {},
   "source": [
    "# Tubular Products\n",
    "\n",
    "The Tubular Products Division of Babcock and Wilcox manufactures steel tubing in a variety of sizes and for many different uses.  Currently, three mills handle production. The firm wishes to ascertain how a fourth mill of a different configuration will affect the (optimal) distribution of work (and associated costs) among the mills.\n",
    "\n",
    "The Gams code below gives data for existing mills 1 to 3 and two designs for a new mill 4 and 5, versus an array of 16 products.  The products comprise all combinations of standard  or high-pressure tubing: 1/2, 1, 2, or 8 inch diameters; and thick or thin tube walls.  Missing values indicate products that cannot be manufactured at the given mill.  The weekly demands and working capacities are also given.\n",
    "\n",
    "### Which mill (if any) should be built?  \n",
    "\n",
    "Hint: While this could be modeled as a mixed integer programming model, it is required here instead to set up a single linear programming model, and solve that model three (or more) times to answer the question at hand."
   ]
  },
  {
   "cell_type": "code",
   "execution_count": 1,
   "metadata": {},
   "outputs": [],
   "source": [
    "# Load the gams extension\n",
    "%load_ext gams_magic"
   ]
  },
  {
   "cell_type": "markdown",
   "metadata": {},
   "source": [
    "__The GAMS Data:__"
   ]
  },
  {
   "cell_type": "code",
   "execution_count": 2,
   "metadata": {},
   "outputs": [],
   "source": [
    "%%gams\n",
    "sets\n",
    "tube            /standard,high/,\n",
    "size            /half,one,two,eight/,\n",
    "wall            /thick,thin/,\n",
    "p(tube,size,wall) \"products\",\n",
    "m \"mills\"         /1*5/;\n",
    "set I /\"none\", \"4\", \"5\"/;\n",
    "\n",
    "p(tube,size,wall) = yes;\n",
    "\n",
    "table c(tube,size,wall,m) \"cost (in dollars) per 1000 pounds of p at m\"\n",
    "                        1    2    3    4    5\n",
    "standard.half.thick    90   75   70   63   64\n",
    "standard.half.thin     80   70   65   60   64\n",
    "standard.one.thick    104   85   83   77   64\n",
    "standard.one.thin      98   79   80   74   64\n",
    "standard.two.thick    123  101  110   99   90\n",
    "standard.two.thin     113   94  100   84  100\n",
    "standard.eight.thick       160  156  140  160\n",
    "standard.eight.thin        142  150  130  140\n",
    "high.half.thick       140  110       122  110\n",
    "high.half.thin        124   96       101  101\n",
    "high.one.thick        160  133       138  134\n",
    "high.one.thin         143  127       133  139\n",
    "high.two.thick        202  150       160  150\n",
    "high.two.thin         190  141       140  160\n",
    "high.eight.thick           190       220  250\n",
    "high.eight.thin            175       200  200;\n",
    "\n",
    "table t(tube,size,wall,m) \"time (in hours) per 1000 pounds of p at m\"\n",
    "                         1    2    3    4    5\n",
    "standard.half.thick    0.8  0.7  0.5  0.6  0.6\n",
    "standard.half.thin     0.8  0.7  0.5  0.6  0.6\n",
    "standard.one.thick     0.8  0.7  0.5  0.6  0.6\n",
    "standard.one.thin      0.8  0.7  0.5  0.6  0.6\n",
    "standard.two.thick     0.8  0.7  0.5  0.6  0.6\n",
    "standard.two.thin      0.8  0.7  0.5  0.6  0.6\n",
    "standard.eight.thick        0.9  0.5  0.6  0.6\n",
    "standard.eight.thin         0.9  0.5  0.6  0.6\n",
    "high.half.thick        1.5  0.9       1.2  1.2\n",
    "high.half.thin         1.5  0.9       1.2  1.2\n",
    "high.one.thick         1.5  0.9       1.2  1.2\n",
    "high.one.thin          1.5  0.9       1.2  1.2\n",
    "high.two.thick         1.5  0.9       1.2  1.2\n",
    "high.two.thin          1.5  0.9       1.2  1.2\n",
    "high.eight.thick            1.0       1.5  1.5\n",
    "high.eight.thin             1.0       1.5  1.5;\n",
    "\n",
    "parameter d(tube,size,wall) \"weekly demand in 1000 pounds for product\"/\n",
    "standard.half.thick  100, \n",
    "standard.half.thin   630, \n",
    "standard.one.thick   500, \n",
    "standard.one.thin    980, \n",
    "standard.two.thick   720, \n",
    "standard.two.thin    240, \n",
    "standard.eight.thick 75, \n",
    "standard.eight.thin  22,\n",
    "high.half.thick      50, \n",
    "high.half.thin       22, \n",
    "high.one.thick       353, \n",
    "high.one.thin        55, \n",
    "high.two.thick       125, \n",
    "high.two.thin        35, \n",
    "high.eight.thick     100, \n",
    "high.eight.thin      10/;\n",
    "\n",
    "parameter b(m) \"mill m capacity (in hours)\"\n",
    "/1 800, 2 480, 3 1280, 4 960, 5 960/;"
   ]
  },
  {
   "cell_type": "code",
   "execution_count": 3,
   "metadata": {},
   "outputs": [],
   "source": [
    "%%gams\n",
    "\n",
    "positive variable f(tube,size,wall,m);\n",
    "free variable cost \"cost of building mills\";\n",
    "\n",
    "equations demandRequirement(tube,size,wall),maxCapacityHours(m),objfunc;\n",
    "\n",
    "* EQUATION (MODEL) DEFINITION \n",
    "demandRequirement(tube,size,wall)..\n",
    "  sum(m,f(tube,size,wall,m)) =g= d(tube,size,wall);\n",
    "\n",
    "maxCapacityHours(m)..\n",
    "  sum((tube,size,wall),t(tube,size,wall,m)*f(tube,size,wall,m)) =l= b(m);\n",
    "\n",
    "* Objective function\n",
    "objfunc..\n",
    "  cost =e= sum((tube,size,wall,m),c(tube,size,wall,m)*f(tube,size,wall,m));\n",
    "    \n",
    "* Variable bound\n",
    "f.up(tube,size,wall,m)$(c(tube,size,wall,m) = 0) = 0;\n",
    "  \n",
    "model tubprods /all/;\n"
   ]
  },
  {
   "cell_type": "code",
   "execution_count": 4,
   "metadata": {
    "scrolled": true
   },
   "outputs": [
    {
     "data": {
      "text/html": [
       "<div>\n",
       "<style scoped>\n",
       "    .dataframe tbody tr th:only-of-type {\n",
       "        vertical-align: middle;\n",
       "    }\n",
       "\n",
       "    .dataframe tbody tr th {\n",
       "        vertical-align: top;\n",
       "    }\n",
       "\n",
       "    .dataframe thead th {\n",
       "        text-align: right;\n",
       "    }\n",
       "</style>\n",
       "<table border=\"1\" class=\"dataframe\">\n",
       "  <thead>\n",
       "    <tr style=\"text-align: right;\">\n",
       "      <th></th>\n",
       "      <th>Solver Status</th>\n",
       "      <th>Model Status</th>\n",
       "      <th>Objective</th>\n",
       "      <th>#equ</th>\n",
       "      <th>#var</th>\n",
       "      <th>Model Type</th>\n",
       "      <th>Solver</th>\n",
       "      <th>Solver Time</th>\n",
       "    </tr>\n",
       "  </thead>\n",
       "  <tbody>\n",
       "    <tr>\n",
       "      <td>0</td>\n",
       "      <td>Normal (1)</td>\n",
       "      <td>InfeasibleGlobal (4)</td>\n",
       "      <td>407094.0909</td>\n",
       "      <td>22</td>\n",
       "      <td>81</td>\n",
       "      <td>LP</td>\n",
       "      <td>CPLEX</td>\n",
       "      <td>0.027</td>\n",
       "    </tr>\n",
       "  </tbody>\n",
       "</table>\n",
       "</div>"
      ],
      "text/plain": [
       "  Solver Status          Model Status    Objective #equ #var Model Type  \\\n",
       "0    Normal (1)  InfeasibleGlobal (4)  407094.0909   22   81         LP   \n",
       "\n",
       "  Solver Solver Time  \n",
       "0  CPLEX       0.027  "
      ]
     },
     "execution_count": 4,
     "metadata": {},
     "output_type": "execute_result"
    }
   ],
   "source": [
    "%%gams\n",
    "* solve for the case when only mills 1,2,3 are built\n",
    "f.fx(p,'4') = 0;\n",
    "f.fx(p,'5') = 0;\n",
    "solve tubprods using lp min cost;\n",
    "\n",
    "parameter soln(I);\n",
    "soln(\"none\") = cost.l;"
   ]
  },
  {
   "cell_type": "code",
   "execution_count": 5,
   "metadata": {},
   "outputs": [
    {
     "data": {
      "text/html": [
       "<div>\n",
       "<style scoped>\n",
       "    .dataframe tbody tr th:only-of-type {\n",
       "        vertical-align: middle;\n",
       "    }\n",
       "\n",
       "    .dataframe tbody tr th {\n",
       "        vertical-align: top;\n",
       "    }\n",
       "\n",
       "    .dataframe thead th {\n",
       "        text-align: right;\n",
       "    }\n",
       "</style>\n",
       "<table border=\"1\" class=\"dataframe\">\n",
       "  <thead>\n",
       "    <tr style=\"text-align: right;\">\n",
       "      <th></th>\n",
       "      <th>Solver Status</th>\n",
       "      <th>Model Status</th>\n",
       "      <th>Objective</th>\n",
       "      <th>#equ</th>\n",
       "      <th>#var</th>\n",
       "      <th>Model Type</th>\n",
       "      <th>Solver</th>\n",
       "      <th>Solver Time</th>\n",
       "    </tr>\n",
       "  </thead>\n",
       "  <tbody>\n",
       "    <tr>\n",
       "      <td>0</td>\n",
       "      <td>Normal (1)</td>\n",
       "      <td>Optimal Global (1)</td>\n",
       "      <td>378899.1111</td>\n",
       "      <td>22</td>\n",
       "      <td>81</td>\n",
       "      <td>LP</td>\n",
       "      <td>CPLEX</td>\n",
       "      <td>0.004</td>\n",
       "    </tr>\n",
       "  </tbody>\n",
       "</table>\n",
       "</div>"
      ],
      "text/plain": [
       "  Solver Status        Model Status    Objective #equ #var Model Type Solver  \\\n",
       "0    Normal (1)  Optimal Global (1)  378899.1111   22   81         LP  CPLEX   \n",
       "\n",
       "  Solver Time  \n",
       "0       0.004  "
      ]
     },
     "execution_count": 5,
     "metadata": {},
     "output_type": "execute_result"
    }
   ],
   "source": [
    "%%gams\n",
    "\n",
    "* solve for the case when mills 1,2,3,4 are built\n",
    "f.fx(p,'5') = 0;\n",
    "f.up(p,'4') = inf;\n",
    "solve tubprods using lp min cost;\n",
    "soln(\"4\") = cost.l;"
   ]
  },
  {
   "cell_type": "code",
   "execution_count": 6,
   "metadata": {},
   "outputs": [
    {
     "data": {
      "text/html": [
       "<div>\n",
       "<style scoped>\n",
       "    .dataframe tbody tr th:only-of-type {\n",
       "        vertical-align: middle;\n",
       "    }\n",
       "\n",
       "    .dataframe tbody tr th {\n",
       "        vertical-align: top;\n",
       "    }\n",
       "\n",
       "    .dataframe thead th {\n",
       "        text-align: right;\n",
       "    }\n",
       "</style>\n",
       "<table border=\"1\" class=\"dataframe\">\n",
       "  <thead>\n",
       "    <tr style=\"text-align: right;\">\n",
       "      <th></th>\n",
       "      <th>Solver Status</th>\n",
       "      <th>Model Status</th>\n",
       "      <th>Objective</th>\n",
       "      <th>#equ</th>\n",
       "      <th>#var</th>\n",
       "      <th>Model Type</th>\n",
       "      <th>Solver</th>\n",
       "      <th>Solver Time</th>\n",
       "    </tr>\n",
       "  </thead>\n",
       "  <tbody>\n",
       "    <tr>\n",
       "      <td>0</td>\n",
       "      <td>Normal (1)</td>\n",
       "      <td>Optimal Global (1)</td>\n",
       "      <td>367626.0</td>\n",
       "      <td>22</td>\n",
       "      <td>81</td>\n",
       "      <td>LP</td>\n",
       "      <td>CPLEX</td>\n",
       "      <td>0.012</td>\n",
       "    </tr>\n",
       "  </tbody>\n",
       "</table>\n",
       "</div>"
      ],
      "text/plain": [
       "  Solver Status        Model Status  Objective #equ #var Model Type Solver  \\\n",
       "0    Normal (1)  Optimal Global (1)   367626.0   22   81         LP  CPLEX   \n",
       "\n",
       "  Solver Time  \n",
       "0       0.012  "
      ]
     },
     "execution_count": 6,
     "metadata": {},
     "output_type": "execute_result"
    }
   ],
   "source": [
    "%%gams\n",
    "\n",
    "* solve for the case when mills 1,2,3,5 are built\n",
    "f.fx(p,'4') = 0;\n",
    "f.up(p,'5') = inf;\n",
    "solve tubprods using lp min cost;\n",
    "soln(\"5\") = cost.l;"
   ]
  },
  {
   "cell_type": "markdown",
   "metadata": {},
   "source": [
    "__Pull the objective values from GAMS and determine which mill to build:__"
   ]
  },
  {
   "cell_type": "code",
   "execution_count": 7,
   "metadata": {},
   "outputs": [
    {
     "name": "stdout",
     "output_type": "stream",
     "text": [
      "Build mill  5\n"
     ]
    }
   ],
   "source": [
    "# solution should hold all the LP solution values you want to compare\n",
    "%gams_pull -d soln\n",
    "soln.set_index('I',inplace=True)\n",
    "print('Build mill ', soln['value'].idxmin())"
   ]
  }
 ],
 "metadata": {
  "kernelspec": {
   "display_name": "Python 3",
   "language": "python",
   "name": "python3"
  },
  "language_info": {
   "codemirror_mode": {
    "name": "ipython",
    "version": 3
   },
   "file_extension": ".py",
   "mimetype": "text/x-python",
   "name": "python",
   "nbconvert_exporter": "python",
   "pygments_lexer": "ipython3",
   "version": "3.6.9"
  }
 },
 "nbformat": 4,
 "nbformat_minor": 2
}
