{
 "cells": [
  {
   "cell_type": "markdown",
   "metadata": {},
   "source": [
    "# Bussville\n",
    "The city of Busville contains three school districts. The number of nonminority and minority students in each district is given in the first table below. The court has mandated that each of the town's two high schools (Cooley and Whitman) must have approximately the same percentage of minority students-within 5\\% of the minority\n",
    "population of the entire pool of students. The distances (in miles) between the school districts and the high schools are indicated in the second table below. Each school must have an enrolment of between 350 and 500 students:<br>\n",
    "\n",
    "|District|Minority Students|Nonminority Students|\n",
    "|--------|-----------------|--------------------|\n",
    "|1       |50               |200                 |\n",
    "|2       |50               |250                 |\n",
    "|3       |100              |150                 |\n",
    "\n",
    "\n",
    "|District|Cooley|Whitman|\n",
    "|--------|------|-------|\n",
    "|1       |1.2   |1.8    |\n",
    "|2       |2.2   |0.9    |\n",
    "|3       |1.4   |0.8    |\n",
    "\n",
    "### Determine an assignment of students to schools that minimizes the total distance that students must travel to school. Remember to include the constraint that every student must attend school!"
   ]
  },
  {
   "cell_type": "code",
   "execution_count": null,
   "metadata": {},
   "outputs": [],
   "source": [
    "# Load the gams extension\n",
    "%load_ext gams_magic\n",
    "\n",
    "# Enable plots to be shown in notebook\n",
    "%matplotlib inline\n",
    "from matplotlib import pyplot as plt"
   ]
  },
  {
   "cell_type": "markdown",
   "metadata": {},
   "source": [
    "__The GAMS Model:__"
   ]
  },
  {
   "cell_type": "code",
   "execution_count": null,
   "metadata": {},
   "outputs": [],
   "source": [
    "# fill in here"
   ]
  },
  {
   "cell_type": "markdown",
   "metadata": {},
   "source": [
    "__Pull the variable values from GAMS and create a pie chart for the student population:__"
   ]
  },
  {
   "cell_type": "code",
   "execution_count": null,
   "metadata": {},
   "outputs": [],
   "source": [
    "# Pull the values of studentPopulation and studentsBused (variables) \n",
    "# from GAMS to Python as a pandas dataframe\n",
    "%gams_pull -d studentPopulation studentsBused\n",
    "#display(studentPopulation,studentsBused)"
   ]
  },
  {
   "cell_type": "code",
   "execution_count": null,
   "metadata": {
    "scrolled": true
   },
   "outputs": [],
   "source": [
    "fig,(ax0,ax1) = plt.subplots(ncols=2,figsize=(14,5))\n",
    "studentPopulation.pivot_table(index=['groups','schools'],values=['level']).plot.pie(ax=ax0,y='level',legend=False)\n",
    "ax0.set_ylabel('')\n",
    "ax0.set_title('Student Population');\n",
    "studentsBused.pivot_table(index=['districts','groups','schools'],values=['level']).plot.pie(ax=ax1,y='level',legend=False)\n",
    "ax1.set_ylabel('')\n",
    "ax1.set_title('Students Bused');"
   ]
  },
  {
   "cell_type": "code",
   "execution_count": null,
   "metadata": {},
   "outputs": [],
   "source": []
  }
 ],
 "metadata": {
  "kernelspec": {
   "display_name": "Python 3",
   "language": "python",
   "name": "python3"
  },
  "language_info": {
   "codemirror_mode": {
    "name": "ipython",
    "version": 3
   },
   "file_extension": ".py",
   "mimetype": "text/x-python",
   "name": "python",
   "nbconvert_exporter": "python",
   "pygments_lexer": "ipython3",
   "version": "3.6.9"
  }
 },
 "nbformat": 4,
 "nbformat_minor": 2
}
