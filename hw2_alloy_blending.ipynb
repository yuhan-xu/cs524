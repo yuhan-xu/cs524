{
 "cells": [
  {
   "cell_type": "markdown",
   "metadata": {},
   "source": [
    "# Alloy bending\n",
    "The company Steelco has received an order for 500 tons of steel to be used in\n",
    "shipbuilding. The steel must have the following characteristics: <br>\n",
    "\n",
    "|Chemical(Element)|Minimum Grade(%)|Maximum Grade(%)|\n",
    "|-----------------|----------------|----------------|\n",
    "|Carbon(C)        |2               |3               |\n",
    "|Copper(Cu)       |0.4             |0.6             |\n",
    "|Manganese(Mn)    |1.2             |1.65            |\n",
    "\n",
    "The company has seven different raw materials in stock that may be used for the production of\n",
    "this steel. The following table lists the grades, available amounts and prices for all materials:<br>\n",
    "\n",
    "|Raw Material| C%     | Cu%     | Mn%    | Availability (tons)| Cost ($/ton)|\n",
    "|------------|--------|---------|--------|--------------------|-------------|\n",
    "|Iron alloy 1| 2.5    | &nbsp;  | 1.3    | 400                | 200         |\n",
    "|Iron alloy 2| 3      | &nbsp;  | 0.8    | 300                | 250         |\n",
    "|Iron alloy 3| &nbsp; | 0.3     | &nbsp; | 600                | 150         |\n",
    "|Copper 1    | &nbsp; | 90      | &nbsp; | 500                | 220         |\n",
    "|Copper 2    | &nbsp; | 96      | 4      | 200                | 240         |\n",
    "|Aluminum 1  | &nbsp; | 0.4     | 1.2    | 300                | 200         |\n",
    "|Aluminum 2  | &nbsp; | 0.6     | &nbsp; | 250                | 165         |\n",
    "\n",
    "### Determine the composition of the steel that minimizes the production cost "
   ]
  },
  {
   "cell_type": "code",
   "execution_count": null,
   "metadata": {},
   "outputs": [],
   "source": [
    "# Load the gams extension\n",
    "%load_ext gams_magic\n",
    "\n",
    "# Enable plots to be shown in notebook\n",
    "%matplotlib inline"
   ]
  },
  {
   "cell_type": "markdown",
   "metadata": {},
   "source": [
    "__The GAMS Model:__"
   ]
  },
  {
   "cell_type": "code",
   "execution_count": null,
   "metadata": {},
   "outputs": [],
   "source": [
    "%%gams\n",
    "# include your code here"
   ]
  },
  {
   "cell_type": "markdown",
   "metadata": {},
   "source": [
    "__Pull the variable values from GAMS and create a pie chart for the compounds of the optimal steel:__"
   ]
  },
  {
   "cell_type": "code",
   "execution_count": null,
   "metadata": {},
   "outputs": [],
   "source": [
    "# Pull the values of x from GAMS to Python as a pandas dataframe\n",
    "%gams_pull -d x\n",
    "x"
   ]
  },
  {
   "cell_type": "code",
   "execution_count": null,
   "metadata": {},
   "outputs": [],
   "source": [
    "# Reset index to r\n",
    "x = x.set_index('r')\n",
    "plot = x.plot.pie(y='level', figsize=(5, 5))\n",
    "plot"
   ]
  },
  {
   "cell_type": "code",
   "execution_count": null,
   "metadata": {},
   "outputs": [],
   "source": []
  }
 ],
 "metadata": {
  "kernelspec": {
   "display_name": "Python 3",
   "language": "python",
   "name": "python3"
  },
  "language_info": {
   "codemirror_mode": {
    "name": "ipython",
    "version": 3
   },
   "file_extension": ".py",
   "mimetype": "text/x-python",
   "name": "python",
   "nbconvert_exporter": "python",
   "pygments_lexer": "ipython3",
   "version": "3.6.9"
  }
 },
 "nbformat": 4,
 "nbformat_minor": 2
}
