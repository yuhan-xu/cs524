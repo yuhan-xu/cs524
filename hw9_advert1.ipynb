{
 "cells": [
  {
   "cell_type": "code",
   "execution_count": 1,
   "metadata": {
    "scrolled": true
   },
   "outputs": [],
   "source": [
    "# Load the gams extension\n",
    "%load_ext gams_magic"
   ]
  },
  {
   "cell_type": "markdown",
   "metadata": {},
   "source": [
    "# Advertising Budget for Weasley's Wizard Wheezes\n",
    "\n",
    "The Weasley's are buying advertising time on the radio in order to\n",
    "reach wizards and witches.  There are a set $N$ of adds that they\n",
    "could possibly purchase.  Each minute of advertising of type $j \\in\n",
    "N$ costs $c_j$.  If they purchase $x_j$ minutes of advertising of an\n",
    "add of type $j$, then they will ensure that $\\alpha_j \\sqrt{x_j}$\n",
    "witches and $\\beta_j \\sqrt{x_j}$ wizards hear their spots.\n",
    "\n",
    "They would like to find a least cost advertising strategy so that\n",
    "their ads will reach $K_1$ witches and $K_2$ wizards.\n",
    "\n",
    "For both problems, please use the following gams code to create the instance."
   ]
  },
  {
   "cell_type": "code",
   "execution_count": 2,
   "metadata": {},
   "outputs": [],
   "source": [
    "%%gams\n",
    "sets N /ad1*ad20/;\n",
    "alias(I,N) ;\n",
    "\n",
    "option seed = 1253;\n",
    "\n",
    "parameters \n",
    "  c(I) Cost\n",
    "  alpha(I) Witches proportionality constant\n",
    "  beta(I) Wizards proportionality constant;\n",
    "\n",
    "scalars K1, K2, totalAdTime;\n",
    "\n",
    "c(I) = normal(100,5);\n",
    "\n",
    "alpha(I) = uniform(7,13) ;\n",
    "beta(I) = 13-alpha(I) + 7 + 5$(uniform(0,1) < 0.3);\n",
    "\n",
    "K1 = 5000;\n",
    "K2 = 8000;"
   ]
  },
  {
   "cell_type": "markdown",
   "metadata": {},
   "source": [
    "### Write a GAMS nlp model that will determine the number of minutes of each advertising spot to purchase. \n",
    "\n",
    "Ensure your code works with the nlp solvers knitro, conopt and ipopt"
   ]
  },
  {
   "cell_type": "code",
   "execution_count": 3,
   "metadata": {},
   "outputs": [
    {
     "data": {
      "text/html": [
       "<div>\n",
       "<style scoped>\n",
       "    .dataframe tbody tr th:only-of-type {\n",
       "        vertical-align: middle;\n",
       "    }\n",
       "\n",
       "    .dataframe tbody tr th {\n",
       "        vertical-align: top;\n",
       "    }\n",
       "\n",
       "    .dataframe thead th {\n",
       "        text-align: right;\n",
       "    }\n",
       "</style>\n",
       "<table border=\"1\" class=\"dataframe\">\n",
       "  <thead>\n",
       "    <tr style=\"text-align: right;\">\n",
       "      <th></th>\n",
       "      <th>Solver Status</th>\n",
       "      <th>Model Status</th>\n",
       "      <th>Objective</th>\n",
       "      <th>#equ</th>\n",
       "      <th>#var</th>\n",
       "      <th>Model Type</th>\n",
       "      <th>Solver</th>\n",
       "      <th>Solver Time</th>\n",
       "    </tr>\n",
       "  </thead>\n",
       "  <tbody>\n",
       "    <tr>\n",
       "      <td>0</td>\n",
       "      <td>Normal (1)</td>\n",
       "      <td>OptimalLocal (2)</td>\n",
       "      <td>1.970912e+06</td>\n",
       "      <td>3</td>\n",
       "      <td>21</td>\n",
       "      <td>NLP</td>\n",
       "      <td>KNITRO</td>\n",
       "      <td>0.009</td>\n",
       "    </tr>\n",
       "    <tr>\n",
       "      <td>1</td>\n",
       "      <td>Normal (1)</td>\n",
       "      <td>OptimalLocal (2)</td>\n",
       "      <td>1.970912e+06</td>\n",
       "      <td>3</td>\n",
       "      <td>21</td>\n",
       "      <td>NLP</td>\n",
       "      <td>CONOPT</td>\n",
       "      <td>0.001</td>\n",
       "    </tr>\n",
       "    <tr>\n",
       "      <td>2</td>\n",
       "      <td>Normal (1)</td>\n",
       "      <td>OptimalLocal (2)</td>\n",
       "      <td>1.970912e+06</td>\n",
       "      <td>3</td>\n",
       "      <td>21</td>\n",
       "      <td>NLP</td>\n",
       "      <td>IPOPT</td>\n",
       "      <td>0.003</td>\n",
       "    </tr>\n",
       "  </tbody>\n",
       "</table>\n",
       "</div>"
      ],
      "text/plain": [
       "  Solver Status      Model Status     Objective #equ #var Model Type  Solver  \\\n",
       "0    Normal (1)  OptimalLocal (2)  1.970912e+06    3   21        NLP  KNITRO   \n",
       "1    Normal (1)  OptimalLocal (2)  1.970912e+06    3   21        NLP  CONOPT   \n",
       "2    Normal (1)  OptimalLocal (2)  1.970912e+06    3   21        NLP   IPOPT   \n",
       "\n",
       "  Solver Time  \n",
       "0       0.009  \n",
       "1       0.001  \n",
       "2       0.003  "
      ]
     },
     "execution_count": 3,
     "metadata": {},
     "output_type": "execute_result"
    }
   ],
   "source": [
    "%%gams\n",
    "positive variable x(I);\n",
    "free variable totcosts;\n",
    "\n",
    "equations k1_limit \"k1 limit\"\n",
    "          k2_limit \"k2 limit\"\n",
    "          objfunc \"objective function\";\n",
    "* Equation definitions\n",
    "k1_limit..\n",
    "  sum(I,alpha(I)*sqrt(x(I))) =g= K1;\n",
    "  \n",
    "k2_limit..\n",
    "  sum(I,beta(I)*sqrt(x(I))) =g= K2;\n",
    "    \n",
    "* Objective function    \n",
    "objfunc..\n",
    "  totcosts =e= sum(I,c(I)*x(I));\n",
    "  \n",
    "model advert /all/;\n",
    "\n",
    "* use different solvers to solve\n",
    "option nlp = knitro;\n",
    "solve advert using nlp min totcosts;\n",
    "\n",
    "option nlp = conopt;\n",
    "solve advert using nlp min totcosts;\n",
    "\n",
    "option nlp = ipopt;\n",
    "solve advert using nlp min totcosts;\n",
    "\n",
    "totalAdTime = sum(I,x.l(I));"
   ]
  },
  {
   "cell_type": "code",
   "execution_count": 4,
   "metadata": {},
   "outputs": [
    {
     "name": "stdout",
     "output_type": "stream",
     "text": [
      "totalAdTime =  20139.5674256483\n"
     ]
    },
    {
     "data": {
      "text/plain": [
       "[('ad1', 1879.1193727324462),\n",
       " ('ad2', 300.7224667513591),\n",
       " ('ad3', 434.25035514573847),\n",
       " ('ad4', 1191.33313037181),\n",
       " ('ad5', 1555.6128652379837),\n",
       " ('ad6', 1175.9325191240034),\n",
       " ('ad7', 1067.6906060467222),\n",
       " ('ad8', 953.2716519426702),\n",
       " ('ad9', 333.74379722705476),\n",
       " ('ad10', 343.8519293866643),\n",
       " ('ad11', 529.4673136079932),\n",
       " ('ad12', 477.79775002878955),\n",
       " ('ad13', 2171.7042371726434),\n",
       " ('ad14', 2267.525660483433),\n",
       " ('ad15', 951.001883059992),\n",
       " ('ad16', 615.4953968309145),\n",
       " ('ad17', 375.7340854211762),\n",
       " ('ad18', 914.8816975429856),\n",
       " ('ad19', 1398.1083233667375),\n",
       " ('ad20', 1202.3223841671786)]"
      ]
     },
     "metadata": {},
     "output_type": "display_data"
    }
   ],
   "source": [
    "# Display the total time purchased and the \n",
    "# amount of each ad purchased using the code below:\n",
    "%gams_pull x totalAdTime\n",
    "totalAdTime = totalAdTime[0]\n",
    "c = [(x[i][0],x[i][1]) for i in range(0,len(x))]\n",
    "print(\"totalAdTime = \",totalAdTime)\n",
    "display(c)"
   ]
  },
  {
   "cell_type": "markdown",
   "metadata": {},
   "source": [
    "### Write a GAMS qcp model that will determine the number of minutes of each advertising spot to purchase.  \n",
    "You will need to add some auxiliary variables.  \n",
    "Ensure your code works with at least two of the solvers (cplexd, mosek and gurobi)."
   ]
  },
  {
   "cell_type": "code",
   "execution_count": 5,
   "metadata": {},
   "outputs": [
    {
     "data": {
      "text/html": [
       "<div>\n",
       "<style scoped>\n",
       "    .dataframe tbody tr th:only-of-type {\n",
       "        vertical-align: middle;\n",
       "    }\n",
       "\n",
       "    .dataframe tbody tr th {\n",
       "        vertical-align: top;\n",
       "    }\n",
       "\n",
       "    .dataframe thead th {\n",
       "        text-align: right;\n",
       "    }\n",
       "</style>\n",
       "<table border=\"1\" class=\"dataframe\">\n",
       "  <thead>\n",
       "    <tr style=\"text-align: right;\">\n",
       "      <th></th>\n",
       "      <th>Solver Status</th>\n",
       "      <th>Model Status</th>\n",
       "      <th>Objective</th>\n",
       "      <th>#equ</th>\n",
       "      <th>#var</th>\n",
       "      <th>Model Type</th>\n",
       "      <th>Solver</th>\n",
       "      <th>Solver Time</th>\n",
       "    </tr>\n",
       "  </thead>\n",
       "  <tbody>\n",
       "    <tr>\n",
       "      <td>0</td>\n",
       "      <td>Normal (1)</td>\n",
       "      <td>Optimal Global (1)</td>\n",
       "      <td>1.970907e+06</td>\n",
       "      <td>23</td>\n",
       "      <td>41</td>\n",
       "      <td>QCP</td>\n",
       "      <td>CPLEXD</td>\n",
       "      <td>0.025</td>\n",
       "    </tr>\n",
       "    <tr>\n",
       "      <td>1</td>\n",
       "      <td>Normal (1)</td>\n",
       "      <td>Optimal Global (1)</td>\n",
       "      <td>1.970912e+06</td>\n",
       "      <td>23</td>\n",
       "      <td>41</td>\n",
       "      <td>QCP</td>\n",
       "      <td>MOSEK</td>\n",
       "      <td>0.007</td>\n",
       "    </tr>\n",
       "    <tr>\n",
       "      <td>2</td>\n",
       "      <td>Normal (1)</td>\n",
       "      <td>Optimal Global (1)</td>\n",
       "      <td>1.970912e+06</td>\n",
       "      <td>23</td>\n",
       "      <td>41</td>\n",
       "      <td>QCP</td>\n",
       "      <td>GUROBI</td>\n",
       "      <td>0.018</td>\n",
       "    </tr>\n",
       "  </tbody>\n",
       "</table>\n",
       "</div>"
      ],
      "text/plain": [
       "  Solver Status        Model Status     Objective #equ #var Model Type  \\\n",
       "0    Normal (1)  Optimal Global (1)  1.970907e+06   23   41        QCP   \n",
       "1    Normal (1)  Optimal Global (1)  1.970912e+06   23   41        QCP   \n",
       "2    Normal (1)  Optimal Global (1)  1.970912e+06   23   41        QCP   \n",
       "\n",
       "   Solver Solver Time  \n",
       "0  CPLEXD       0.025  \n",
       "1   MOSEK       0.007  \n",
       "2  GUROBI       0.018  "
      ]
     },
     "execution_count": 5,
     "metadata": {},
     "output_type": "execute_result"
    }
   ],
   "source": [
    "%%gams\n",
    "\n",
    "* define a new positive variable u(I)\n",
    "positive variable u(I);\n",
    "\n",
    "free variable totcosts1;\n",
    "\n",
    "equations k1_limit1\n",
    "          k2_limit1\n",
    "          constr_3(I) \"add a new constraint on the new variable we created\"\n",
    "          objfunc1;\n",
    "* Equation definitions\n",
    "k1_limit1..\n",
    "  sum(I,alpha(I)*u(I)) =g= K1;\n",
    "  \n",
    "k2_limit1..\n",
    "  sum(I,beta(I)*u(I)) =g= K2;\n",
    "    \n",
    "constr_3(I)..\n",
    "  x(I) =g= u(I) * u(I);\n",
    "    \n",
    "* Objective function\n",
    "objfunc1..\n",
    "  totcosts1 =e= sum(I,c(I)*x(I));\n",
    "  \n",
    "model advert1 /k1_limit1,k2_limit1,constr_3,objfunc1/;\n",
    "\n",
    "* use different solvers to solve\n",
    "option qcp = cplexd;\n",
    "solve advert1 using qcp minimizing totcosts1;\n",
    "\n",
    "option qcp = mosek;\n",
    "solve advert1 using qcp minimizing totcosts1;\n",
    "\n",
    "option qcp = gurobi;\n",
    "solve advert1 using qcp minimizing totcosts1;\n",
    "\n",
    "totalAdTime = sum(I,x.l(I));"
   ]
  },
  {
   "cell_type": "code",
   "execution_count": 6,
   "metadata": {},
   "outputs": [
    {
     "name": "stdout",
     "output_type": "stream",
     "text": [
      "totalAdTime =  20139.55932835093\n"
     ]
    },
    {
     "data": {
      "text/plain": [
       "[('ad1', 1879.1777059774681),\n",
       " ('ad2', 300.74399980862614),\n",
       " ('ad3', 434.24324620970395),\n",
       " ('ad4', 1191.3286567098933),\n",
       " ('ad5', 1555.6008643630857),\n",
       " ('ad6', 1175.941696945053),\n",
       " ('ad7', 1067.7243558473806),\n",
       " ('ad8', 953.2877755024334),\n",
       " ('ad9', 333.73433376572194),\n",
       " ('ad10', 343.84479425049784),\n",
       " ('ad11', 529.4528431128722),\n",
       " ('ad12', 477.79098009923246),\n",
       " ('ad13', 2171.7142760390393),\n",
       " ('ad14', 2267.485381177699),\n",
       " ('ad15', 951.010610352154),\n",
       " ('ad16', 615.4869948663686),\n",
       " ('ad17', 375.7298265452652),\n",
       " ('ad18', 914.8503335802889),\n",
       " ('ad19', 1398.0875333635586),\n",
       " ('ad20', 1202.323119834585)]"
      ]
     },
     "metadata": {},
     "output_type": "display_data"
    }
   ],
   "source": [
    "# Display the total time purchased and the \n",
    "# amount of each ad purchased using the code below:\n",
    "%gams_pull x totalAdTime\n",
    "totalAdTime = totalAdTime[0]\n",
    "c = [(x[i][0],x[i][1]) for i in range(0,len(x))]\n",
    "print(\"totalAdTime = \",totalAdTime)\n",
    "display(c)"
   ]
  },
  {
   "cell_type": "code",
   "execution_count": null,
   "metadata": {},
   "outputs": [],
   "source": []
  }
 ],
 "metadata": {
  "kernelspec": {
   "display_name": "Python 3",
   "language": "python",
   "name": "python3"
  },
  "language_info": {
   "codemirror_mode": {
    "name": "ipython",
    "version": 3
   },
   "file_extension": ".py",
   "mimetype": "text/x-python",
   "name": "python",
   "nbconvert_exporter": "python",
   "pygments_lexer": "ipython3",
   "version": "3.6.9"
  }
 },
 "nbformat": 4,
 "nbformat_minor": 2
}
