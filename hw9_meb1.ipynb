{
 "cells": [
  {
   "cell_type": "code",
   "execution_count": 1,
   "metadata": {
    "scrolled": true
   },
   "outputs": [],
   "source": [
    "# Load the gams extension\n",
    "%load_ext gams_magic"
   ]
  },
  {
   "cell_type": "markdown",
   "metadata": {},
   "source": [
    "# Minimum enclosing ball\n",
    "\n",
    "Formulate a second order cone program to solve the minimum enclosing\n",
    "ball (MEB) problem.  You need to determine the center \\$z\\$ of a ball,\n",
    "and its radius \\$r\\$ so that each of the balls centered at \\$c_i\\$ with\n",
    "radius \\$r_i\\$ are enclosed in your generated ball.  In fact, you must\n",
    "generate the ball of smallest radius.\n",
    "\n",
    "Use the following statements in your code to solve the problem, and\n",
    "ensure that you can also run it changing \\$n\\$  and \\$j\\$ in python.\n",
    "To debug it might be useful to set n=20.\n",
    "Can extend j to be three dimensional and should work (except plot)."
   ]
  },
  {
   "cell_type": "code",
   "execution_count": 2,
   "metadata": {
    "scrolled": false
   },
   "outputs": [],
   "source": [
    "n = 2000\n",
    "i = list(str(x) for x in range(1,n+1))\n",
    "j = [ '1', '2']\n",
    "%gams set i(*), j(*);\n",
    "%gams_push i j"
   ]
  },
  {
   "cell_type": "code",
   "execution_count": 3,
   "metadata": {},
   "outputs": [],
   "source": [
    "%%gams\n",
    "* generate random reproducable data\n",
    "option seed = 101;\n",
    "\n",
    "parameter r(i); r(i) = uniform(0,0.2);\n",
    "parameter c(i,j); c(i,j) = uniform(0,1);"
   ]
  },
  {
   "cell_type": "code",
   "execution_count": 4,
   "metadata": {},
   "outputs": [
    {
     "data": {
      "text/html": [
       "<div>\n",
       "<style scoped>\n",
       "    .dataframe tbody tr th:only-of-type {\n",
       "        vertical-align: middle;\n",
       "    }\n",
       "\n",
       "    .dataframe tbody tr th {\n",
       "        vertical-align: top;\n",
       "    }\n",
       "\n",
       "    .dataframe thead th {\n",
       "        text-align: right;\n",
       "    }\n",
       "</style>\n",
       "<table border=\"1\" class=\"dataframe\">\n",
       "  <thead>\n",
       "    <tr style=\"text-align: right;\">\n",
       "      <th></th>\n",
       "      <th>Solver Status</th>\n",
       "      <th>Model Status</th>\n",
       "      <th>Objective</th>\n",
       "      <th>#equ</th>\n",
       "      <th>#var</th>\n",
       "      <th>Model Type</th>\n",
       "      <th>Solver</th>\n",
       "      <th>Solver Time</th>\n",
       "    </tr>\n",
       "  </thead>\n",
       "  <tbody>\n",
       "    <tr>\n",
       "      <td>0</td>\n",
       "      <td>Normal (1)</td>\n",
       "      <td>Optimal Global (1)</td>\n",
       "      <td>0.8406</td>\n",
       "      <td>8000</td>\n",
       "      <td>6003</td>\n",
       "      <td>LP</td>\n",
       "      <td>MOSEK</td>\n",
       "      <td>0.06</td>\n",
       "    </tr>\n",
       "  </tbody>\n",
       "</table>\n",
       "</div>"
      ],
      "text/plain": [
       "  Solver Status        Model Status  Objective  #equ  #var Model Type Solver  \\\n",
       "0    Normal (1)  Optimal Global (1)     0.8406  8000  6003         LP  MOSEK   \n",
       "\n",
       "  Solver Time  \n",
       "0        0.06  "
      ]
     },
     "execution_count": 4,
     "metadata": {},
     "output_type": "execute_result"
    }
   ],
   "source": [
    "%%gams\n",
    "# write gams models here\n",
    "positive variable xc(j) \"center of each enclosing ball\"\n",
    "                  dist(i) \"distance between center of each small ball i and the larger ball\"; \n",
    "free variable xr,d(i,j);\n",
    "\n",
    "equations objxr(i)\n",
    "          length1(i)\"distance applied to one dimension\"\n",
    "          length2(i,j) \"total distance over all dimensions\";\n",
    "* Objective function\n",
    "objxr(i)..\n",
    "  xr =g= dist(i) + r(i);\n",
    "\n",
    "* Equation definitions\n",
    "length1(i)..\n",
    "  dist(i) =c= sum(j,d(i,j));\n",
    "    \n",
    "length2(i,j)..\n",
    "  d(i,j) =e= xc(j) - c(i,j);\n",
    "\n",
    "model meb /all/;\n",
    "\n",
    "* set the lower bound\n",
    "xr.lo = smax(i,r(i));\n",
    "\n",
    "option lp = mosek;\n",
    "\n",
    "solve meb using lp minimizing xr;"
   ]
  },
  {
   "cell_type": "code",
   "execution_count": 5,
   "metadata": {},
   "outputs": [
    {
     "data": {
      "image/png": "[encoded data removed]",
      "text/plain": [
       "<Figure size 432x288 with 1 Axes>"
      ]
     },
     "metadata": {
      "needs_background": "light"
     },
     "output_type": "display_data"
    }
   ],
   "source": [
    "%matplotlib inline\n",
    "import matplotlib.pyplot as plt\n",
    "\n",
    "# xr xc is radius, center of enclosing ball, r and c given data above\n",
    "%gams_pull xr xc r c\n",
    "xr = xr[0][0]\n",
    "xc = [xc[x][1] for x in range(0,len(j))]\n",
    "r = [r[x][1] for x in range(0,len(i))]\n",
    "c = [[c[x][2], c[x+1][2]] for x in range(0,len(j)*len(i),2)]\n",
    "\n",
    "circleOut = plt.Circle(xc, xr, color='blue')\n",
    "\n",
    "fig, ax = plt.subplots() # note we must use plt.subplots, not plt.subplot\n",
    "\n",
    "ax.add_artist(circleOut)\n",
    "for x in range(0,len(i)):\n",
    "    circleIn = plt.Circle((c[x][0],c[x][1]), r[x], color='r')\n",
    "    ax.add_artist(circleIn)\n",
    "\n",
    "ax.set_xlim(-0.25, 1.25)\n",
    "ax.set_ylim(-0.25, 1.25)\n",
    "ax.axis('scaled')\n",
    "\n",
    "plt.show()"
   ]
  },
  {
   "cell_type": "code",
   "execution_count": null,
   "metadata": {},
   "outputs": [],
   "source": []
  }
 ],
 "metadata": {
  "kernelspec": {
   "display_name": "Python 3",
   "language": "python",
   "name": "python3"
  },
  "language_info": {
   "codemirror_mode": {
    "name": "ipython",
    "version": 3
   },
   "file_extension": ".py",
   "mimetype": "text/x-python",
   "name": "python",
   "nbconvert_exporter": "python",
   "pygments_lexer": "ipython3",
   "version": "3.6.9"
  }
 },
 "nbformat": 4,
 "nbformat_minor": 2
}
